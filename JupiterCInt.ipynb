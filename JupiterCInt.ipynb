{
 "cells": [
  {
   "cell_type": "markdown",
   "id": "12e94e8f",
   "metadata": {},
   "source": [
    "1. Data preparation\n",
    "\n",
    "In order to prepare data we have to split them into 3 sets: train, validation and test sets. Train set is used to train a MLP model, and validation is used for evaluate results of models. Test set will be used to compare best MLP with Fuzzy set."
   ]
  },
  {
   "cell_type": "code",
   "execution_count": 70,
   "id": "ac0f42a6",
   "metadata": {},
   "outputs": [],
   "source": [
    "import pandas as pd\n",
    "import numpy as np\n",
    "import seaborn as sns\n",
    "import matplotlib.pyplot as plt\n",
    "from sklearn.neural_network import MLPClassifier\n",
    "from sklearn.metrics import accuracy_score\n",
    "from sklearn.metrics import precision_score\n",
    "from sklearn.metrics import recall_score\n",
    "from sklearn.model_selection import train_test_split\n",
    "from sklearn.metrics import confusion_matrix\n",
    "\n",
    "raw_data = pd.read_csv(\"ACI21-22_Proj1IoTGatewayCrashDataset.csv\")\n",
    "X = raw_data.drop('Falha', axis=1).to_numpy()\n",
    "y = raw_data['Falha'].to_numpy()\n",
    "\n",
    "#Splitting the data for train, validation and test set (80%, 20%)\n",
    "X_train, X_val, y_train, y_val = train_test_split(X, y, test_size=0.2,  shuffle=False)"
   ]
  },
  {
   "cell_type": "markdown",
   "id": "a62a2880",
   "metadata": {},
   "source": [
    "Table below presents different hyperparameters used during training of models. Unfortunetly GridSearchCV from sklearn package uses cross validation which can't be used in our example because of sequential data, where order matters. That's why we have to search of hyperparameters by outselfs."
   ]
  },
  {
   "cell_type": "code",
   "execution_count": 45,
   "id": "92717f97",
   "metadata": {},
   "outputs": [],
   "source": [
    "clfs = {\n",
    "    'adam_2lay': MLPClassifier(hidden_layer_sizes=(2,),max_iter=1000),\n",
    "    'adam2_8lay': MLPClassifier(hidden_layer_sizes=(8,),max_iter=1000),\n",
    "    'adam3_32lay': MLPClassifier(hidden_layer_sizes=(32,),max_iter=1000),\n",
    "    'sgd1_2lay': MLPClassifier(hidden_layer_sizes=(2,),solver='sgd',max_iter=1000, momentum=0),\n",
    "    'sgd2_8lay': MLPClassifier(hidden_layer_sizes=(8,),solver='sgd',max_iter=1000, momentum=0.9),\n",
    "    'sgd3_32lay': MLPClassifier(hidden_layer_sizes=(32,),solver='sgd',max_iter=1000, momentum=0.9),\n",
    "    'sgd1_adaptive_momentum': MLPClassifier(hidden_layer_sizes=(2,),solver='sgd',max_iter=1000, momentum=0),\n",
    "    'sgd2_momentum': MLPClassifier(hidden_layer_sizes=(8,),solver='sgd',max_iter=1000, momentum=0.9),\n",
    "    'sgd3_momentum': MLPClassifier(hidden_layer_sizes=(32,),solver='sgd',max_iter=1000, momentum=0.9),\n",
    "    'lbfgs_no_momentum': MLPClassifier(hidden_layer_sizes=(2,),solver='lbfgs',max_iter=1000, momentum=0),\n",
    "    'lbfgs_momentum': MLPClassifier(hidden_layer_sizes=(8,),solver='lbfgs',max_iter=1000, momentum=0.9),\n",
    "    'lbfgs_momentum': MLPClassifier(hidden_layer_sizes=(32,),solver='lbfgs',max_iter=1000, momentum=0.9),\n",
    "}\n",
    "def TrainModel(X_train, X_val, y_train, y_val):\n",
    "    for clf_id, clf_name in enumerate(clfs):\n",
    "        clf = clfs[clf_name]\n",
    "        clf.fit(X_train, y_train)\n",
    "        prediction = clf.predict(X_val)\n",
    "        print(clf_name)\n",
    "        print(\"Confusion matrix(tn, fp, fn, tp):\", confusion_matrix(y_val, prediction).ravel())\n",
    "        print(\"Accuracy:\",accuracy_score(y_val, prediction))\n",
    "        print(\"Precision:\",precision_score(y_val, prediction,zero_division=0))\n",
    "        print(\"Recall:\",recall_score(y_val, prediction))"
   ]
  },
  {
   "cell_type": "code",
   "execution_count": 4,
   "id": "f478efd1",
   "metadata": {},
   "outputs": [],
   "source": []
  },
  {
   "cell_type": "code",
   "execution_count": 31,
   "id": "c5a48937",
   "metadata": {},
   "outputs": [
    {
     "name": "stderr",
     "output_type": "stream",
     "text": [
      "C:\\Users\\Pjoter\\anaconda3\\lib\\site-packages\\sklearn\\neural_network\\_multilayer_perceptron.py:614: ConvergenceWarning: Stochastic Optimizer: Maximum iterations (500) reached and the optimization hasn't converged yet.\n",
      "  warnings.warn(\n"
     ]
    },
    {
     "name": "stdout",
     "output_type": "stream",
     "text": [
      "adam_2lay\n",
      "Confusion matrix: [389   0  11   0]\n",
      "Accuracy: 0.9725\n",
      "Precision: 0.0\n",
      "Recall: 0.0\n"
     ]
    },
    {
     "name": "stderr",
     "output_type": "stream",
     "text": [
      "C:\\Users\\Pjoter\\anaconda3\\lib\\site-packages\\sklearn\\neural_network\\_multilayer_perceptron.py:614: ConvergenceWarning: Stochastic Optimizer: Maximum iterations (500) reached and the optimization hasn't converged yet.\n",
      "  warnings.warn(\n"
     ]
    },
    {
     "name": "stdout",
     "output_type": "stream",
     "text": [
      "adam2_8lay\n",
      "Confusion matrix: [389   0  11   0]\n",
      "Accuracy: 0.9725\n",
      "Precision: 0.0\n",
      "Recall: 0.0\n",
      "adam3_32lay\n",
      "Confusion matrix: [389   0   9   2]\n",
      "Accuracy: 0.9775\n",
      "Precision: 1.0\n",
      "Recall: 0.18181818181818182\n"
     ]
    },
    {
     "name": "stderr",
     "output_type": "stream",
     "text": [
      "C:\\Users\\Pjoter\\anaconda3\\lib\\site-packages\\sklearn\\neural_network\\_multilayer_perceptron.py:614: ConvergenceWarning: Stochastic Optimizer: Maximum iterations (500) reached and the optimization hasn't converged yet.\n",
      "  warnings.warn(\n"
     ]
    },
    {
     "name": "stdout",
     "output_type": "stream",
     "text": [
      "sgd1_2lay\n",
      "Confusion matrix: [389   0  11   0]\n",
      "Accuracy: 0.9725\n",
      "Precision: 0.0\n",
      "Recall: 0.0\n",
      "sgd2_8lay\n",
      "Confusion matrix: [389   0  11   0]\n",
      "Accuracy: 0.9725\n",
      "Precision: 0.0\n",
      "Recall: 0.0\n",
      "sgd3_32lay\n",
      "Confusion matrix: [389   0  11   0]\n",
      "Accuracy: 0.9725\n",
      "Precision: 0.0\n",
      "Recall: 0.0\n"
     ]
    },
    {
     "name": "stderr",
     "output_type": "stream",
     "text": [
      "C:\\Users\\Pjoter\\anaconda3\\lib\\site-packages\\sklearn\\neural_network\\_multilayer_perceptron.py:614: ConvergenceWarning: Stochastic Optimizer: Maximum iterations (500) reached and the optimization hasn't converged yet.\n",
      "  warnings.warn(\n"
     ]
    },
    {
     "name": "stdout",
     "output_type": "stream",
     "text": [
      "sgd1_adaptive_momentum\n",
      "Confusion matrix: [389   0  11   0]\n",
      "Accuracy: 0.9725\n",
      "Precision: 0.0\n",
      "Recall: 0.0\n",
      "sgd2_momentum\n",
      "Confusion matrix: [389   0  11   0]\n",
      "Accuracy: 0.9725\n",
      "Precision: 0.0\n",
      "Recall: 0.0\n",
      "sgd3_momentum\n",
      "Confusion matrix: [389   0  11   0]\n",
      "Accuracy: 0.9725\n",
      "Precision: 0.0\n",
      "Recall: 0.0\n",
      "lbfgs_no_momentum\n",
      "Confusion matrix: [389   0  11   0]\n",
      "Accuracy: 0.9725\n",
      "Precision: 0.0\n",
      "Recall: 0.0\n",
      "lbfgs_momentum\n",
      "Confusion matrix: [388   1   7   4]\n",
      "Accuracy: 0.98\n",
      "Precision: 0.8\n",
      "Recall: 0.36363636363636365\n"
     ]
    }
   ],
   "source": [
    "TrainModel(X_train, X_val, y_train, y_val)"
   ]
  },
  {
   "cell_type": "code",
   "execution_count": 86,
   "id": "8eb57938",
   "metadata": {},
   "outputs": [],
   "source": [
    "def createPreviousLoadData(n):\n",
    "    x = raw_data[\"Load\"].to_numpy()\n",
    "    req = raw_data.drop('Falha', axis=1).to_numpy()\n",
    "    x = np.vstack((x,req[:,0]))\n",
    "    for i in range(n):\n",
    "        requestN =np.roll(req[:,0],i+1)\n",
    "        print(requestN.shape)\n",
    "        x = np.vstack((x,requestN))\n",
    "        \n",
    "    return x.T"
   ]
  },
  {
   "cell_type": "code",
   "execution_count": 89,
   "id": "fdfe4c66",
   "metadata": {},
   "outputs": [
    {
     "name": "stdout",
     "output_type": "stream",
     "text": [
      "(1999,)\n",
      "(1999,)\n",
      "(1999,)\n"
     ]
    },
    {
     "name": "stderr",
     "output_type": "stream",
     "text": [
      "C:\\Users\\Pjoter\\anaconda3\\lib\\site-packages\\sklearn\\neural_network\\_multilayer_perceptron.py:614: ConvergenceWarning: Stochastic Optimizer: Maximum iterations (500) reached and the optimization hasn't converged yet.\n",
      "  warnings.warn(\n"
     ]
    },
    {
     "name": "stdout",
     "output_type": "stream",
     "text": [
      "adam_2lay\n",
      "Confusion matrix(tn, fp, fn, tp): [389   0  11   0]\n",
      "Accuracy: 0.9725\n",
      "Precision: 0.0\n",
      "Recall: 0.0\n"
     ]
    },
    {
     "name": "stderr",
     "output_type": "stream",
     "text": [
      "C:\\Users\\Pjoter\\anaconda3\\lib\\site-packages\\sklearn\\neural_network\\_multilayer_perceptron.py:614: ConvergenceWarning: Stochastic Optimizer: Maximum iterations (500) reached and the optimization hasn't converged yet.\n",
      "  warnings.warn(\n"
     ]
    },
    {
     "name": "stdout",
     "output_type": "stream",
     "text": [
      "adam2_8lay\n",
      "Confusion matrix(tn, fp, fn, tp): [389   0  11   0]\n",
      "Accuracy: 0.9725\n",
      "Precision: 0.0\n",
      "Recall: 0.0\n",
      "adam3_32lay\n",
      "Confusion matrix(tn, fp, fn, tp): [388   1   5   6]\n",
      "Accuracy: 0.985\n",
      "Precision: 0.8571428571428571\n",
      "Recall: 0.5454545454545454\n"
     ]
    },
    {
     "name": "stderr",
     "output_type": "stream",
     "text": [
      "C:\\Users\\Pjoter\\anaconda3\\lib\\site-packages\\sklearn\\neural_network\\_multilayer_perceptron.py:614: ConvergenceWarning: Stochastic Optimizer: Maximum iterations (500) reached and the optimization hasn't converged yet.\n",
      "  warnings.warn(\n"
     ]
    },
    {
     "name": "stdout",
     "output_type": "stream",
     "text": [
      "sgd1_2lay\n",
      "Confusion matrix(tn, fp, fn, tp): [389   0  11   0]\n",
      "Accuracy: 0.9725\n",
      "Precision: 0.0\n",
      "Recall: 0.0\n",
      "sgd2_8lay\n",
      "Confusion matrix(tn, fp, fn, tp): [389   0  11   0]\n",
      "Accuracy: 0.9725\n",
      "Precision: 0.0\n",
      "Recall: 0.0\n",
      "sgd3_32lay\n",
      "Confusion matrix(tn, fp, fn, tp): [389   0  11   0]\n",
      "Accuracy: 0.9725\n",
      "Precision: 0.0\n",
      "Recall: 0.0\n"
     ]
    },
    {
     "name": "stderr",
     "output_type": "stream",
     "text": [
      "C:\\Users\\Pjoter\\anaconda3\\lib\\site-packages\\sklearn\\neural_network\\_multilayer_perceptron.py:614: ConvergenceWarning: Stochastic Optimizer: Maximum iterations (500) reached and the optimization hasn't converged yet.\n",
      "  warnings.warn(\n"
     ]
    },
    {
     "name": "stdout",
     "output_type": "stream",
     "text": [
      "sgd1_adaptive_momentum\n",
      "Confusion matrix(tn, fp, fn, tp): [389   0  11   0]\n",
      "Accuracy: 0.9725\n",
      "Precision: 0.0\n",
      "Recall: 0.0\n",
      "sgd2_momentum\n",
      "Confusion matrix(tn, fp, fn, tp): [389   0  11   0]\n",
      "Accuracy: 0.9725\n",
      "Precision: 0.0\n",
      "Recall: 0.0\n",
      "sgd3_momentum\n",
      "Confusion matrix(tn, fp, fn, tp): [389   0  11   0]\n",
      "Accuracy: 0.9725\n",
      "Precision: 0.0\n",
      "Recall: 0.0\n",
      "lbfgs_no_momentum\n",
      "Confusion matrix(tn, fp, fn, tp): [385   4   3   8]\n",
      "Accuracy: 0.9825\n",
      "Precision: 0.6666666666666666\n",
      "Recall: 0.7272727272727273\n",
      "lbfgs_momentum\n",
      "Confusion matrix(tn, fp, fn, tp): [386   3   2   9]\n",
      "Accuracy: 0.9875\n",
      "Precision: 0.75\n",
      "Recall: 0.8181818181818182\n",
      "(1999,)\n",
      "(1999,)\n",
      "adam_2lay\n",
      "Confusion matrix(tn, fp, fn, tp): [389   0  11   0]\n",
      "Accuracy: 0.9725\n",
      "Precision: 0.0\n",
      "Recall: 0.0\n",
      "adam2_8lay\n",
      "Confusion matrix(tn, fp, fn, tp): [389   0  11   0]\n",
      "Accuracy: 0.9725\n",
      "Precision: 0.0\n",
      "Recall: 0.0\n",
      "adam3_32lay\n",
      "Confusion matrix(tn, fp, fn, tp): [387   2   5   6]\n",
      "Accuracy: 0.9825\n",
      "Precision: 0.75\n",
      "Recall: 0.5454545454545454\n"
     ]
    },
    {
     "name": "stderr",
     "output_type": "stream",
     "text": [
      "C:\\Users\\Pjoter\\anaconda3\\lib\\site-packages\\sklearn\\neural_network\\_multilayer_perceptron.py:614: ConvergenceWarning: Stochastic Optimizer: Maximum iterations (500) reached and the optimization hasn't converged yet.\n",
      "  warnings.warn(\n"
     ]
    },
    {
     "name": "stdout",
     "output_type": "stream",
     "text": [
      "sgd1_2lay\n",
      "Confusion matrix(tn, fp, fn, tp): [389   0  11   0]\n",
      "Accuracy: 0.9725\n",
      "Precision: 0.0\n",
      "Recall: 0.0\n",
      "sgd2_8lay\n",
      "Confusion matrix(tn, fp, fn, tp): [389   0  11   0]\n",
      "Accuracy: 0.9725\n",
      "Precision: 0.0\n",
      "Recall: 0.0\n",
      "sgd3_32lay\n",
      "Confusion matrix(tn, fp, fn, tp): [389   0  11   0]\n",
      "Accuracy: 0.9725\n",
      "Precision: 0.0\n",
      "Recall: 0.0\n",
      "sgd1_adaptive_momentum\n",
      "Confusion matrix(tn, fp, fn, tp): [389   0  11   0]\n",
      "Accuracy: 0.9725\n",
      "Precision: 0.0\n",
      "Recall: 0.0\n",
      "sgd2_momentum\n",
      "Confusion matrix(tn, fp, fn, tp): [389   0  11   0]\n",
      "Accuracy: 0.9725\n",
      "Precision: 0.0\n",
      "Recall: 0.0\n",
      "sgd3_momentum\n",
      "Confusion matrix(tn, fp, fn, tp): [389   0  11   0]\n",
      "Accuracy: 0.9725\n",
      "Precision: 0.0\n",
      "Recall: 0.0\n",
      "lbfgs_no_momentum\n",
      "Confusion matrix(tn, fp, fn, tp): [386   3   5   6]\n",
      "Accuracy: 0.98\n",
      "Precision: 0.6666666666666666\n",
      "Recall: 0.5454545454545454\n",
      "lbfgs_momentum\n",
      "Confusion matrix(tn, fp, fn, tp): [383   6   1  10]\n",
      "Accuracy: 0.9825\n",
      "Precision: 0.625\n",
      "Recall: 0.9090909090909091\n",
      "(1999,)\n",
      "(1999,)\n",
      "(1999,)\n"
     ]
    },
    {
     "name": "stderr",
     "output_type": "stream",
     "text": [
      "C:\\Users\\Pjoter\\anaconda3\\lib\\site-packages\\sklearn\\neural_network\\_multilayer_perceptron.py:614: ConvergenceWarning: Stochastic Optimizer: Maximum iterations (500) reached and the optimization hasn't converged yet.\n",
      "  warnings.warn(\n"
     ]
    },
    {
     "name": "stdout",
     "output_type": "stream",
     "text": [
      "adam_2lay\n",
      "Confusion matrix(tn, fp, fn, tp): [389   0  11   0]\n",
      "Accuracy: 0.9725\n",
      "Precision: 0.0\n",
      "Recall: 0.0\n",
      "adam2_8lay\n",
      "Confusion matrix(tn, fp, fn, tp): [389   0   4   7]\n",
      "Accuracy: 0.99\n",
      "Precision: 1.0\n",
      "Recall: 0.6363636363636364\n",
      "adam3_32lay\n",
      "Confusion matrix(tn, fp, fn, tp): [389   0   3   8]\n",
      "Accuracy: 0.9925\n",
      "Precision: 1.0\n",
      "Recall: 0.7272727272727273\n"
     ]
    },
    {
     "name": "stderr",
     "output_type": "stream",
     "text": [
      "C:\\Users\\Pjoter\\anaconda3\\lib\\site-packages\\sklearn\\neural_network\\_multilayer_perceptron.py:614: ConvergenceWarning: Stochastic Optimizer: Maximum iterations (500) reached and the optimization hasn't converged yet.\n",
      "  warnings.warn(\n"
     ]
    },
    {
     "name": "stdout",
     "output_type": "stream",
     "text": [
      "sgd1_2lay\n",
      "Confusion matrix(tn, fp, fn, tp): [389   0  11   0]\n",
      "Accuracy: 0.9725\n",
      "Precision: 0.0\n",
      "Recall: 0.0\n",
      "sgd2_8lay\n",
      "Confusion matrix(tn, fp, fn, tp): [389   0  11   0]\n",
      "Accuracy: 0.9725\n",
      "Precision: 0.0\n",
      "Recall: 0.0\n",
      "sgd3_32lay\n",
      "Confusion matrix(tn, fp, fn, tp): [389   0  11   0]\n",
      "Accuracy: 0.9725\n",
      "Precision: 0.0\n",
      "Recall: 0.0\n",
      "sgd1_adaptive_momentum\n",
      "Confusion matrix(tn, fp, fn, tp): [389   0  11   0]\n",
      "Accuracy: 0.9725\n",
      "Precision: 0.0\n",
      "Recall: 0.0\n",
      "sgd2_momentum\n",
      "Confusion matrix(tn, fp, fn, tp): [389   0  11   0]\n",
      "Accuracy: 0.9725\n",
      "Precision: 0.0\n",
      "Recall: 0.0\n",
      "sgd3_momentum\n",
      "Confusion matrix(tn, fp, fn, tp): [389   0  11   0]\n",
      "Accuracy: 0.9725\n",
      "Precision: 0.0\n",
      "Recall: 0.0\n",
      "lbfgs_no_momentum\n",
      "Confusion matrix(tn, fp, fn, tp): [389   0  11   0]\n",
      "Accuracy: 0.9725\n",
      "Precision: 0.0\n",
      "Recall: 0.0\n",
      "lbfgs_momentum\n",
      "Confusion matrix(tn, fp, fn, tp): [387   2   0  11]\n",
      "Accuracy: 0.995\n",
      "Precision: 0.8461538461538461\n",
      "Recall: 1.0\n",
      "(1999,)\n",
      "(1999,)\n",
      "(1999,)\n",
      "(1999,)\n"
     ]
    },
    {
     "name": "stderr",
     "output_type": "stream",
     "text": [
      "C:\\Users\\Pjoter\\anaconda3\\lib\\site-packages\\sklearn\\neural_network\\_multilayer_perceptron.py:614: ConvergenceWarning: Stochastic Optimizer: Maximum iterations (500) reached and the optimization hasn't converged yet.\n",
      "  warnings.warn(\n"
     ]
    },
    {
     "name": "stdout",
     "output_type": "stream",
     "text": [
      "adam_2lay\n",
      "Confusion matrix(tn, fp, fn, tp): [389   0  11   0]\n",
      "Accuracy: 0.9725\n",
      "Precision: 0.0\n",
      "Recall: 0.0\n",
      "adam2_8lay\n",
      "Confusion matrix(tn, fp, fn, tp): [389   0   4   7]\n",
      "Accuracy: 0.99\n",
      "Precision: 1.0\n",
      "Recall: 0.6363636363636364\n",
      "adam3_32lay\n",
      "Confusion matrix(tn, fp, fn, tp): [389   0   2   9]\n",
      "Accuracy: 0.995\n",
      "Precision: 1.0\n",
      "Recall: 0.8181818181818182\n"
     ]
    },
    {
     "name": "stderr",
     "output_type": "stream",
     "text": [
      "C:\\Users\\Pjoter\\anaconda3\\lib\\site-packages\\sklearn\\neural_network\\_multilayer_perceptron.py:614: ConvergenceWarning: Stochastic Optimizer: Maximum iterations (500) reached and the optimization hasn't converged yet.\n",
      "  warnings.warn(\n"
     ]
    },
    {
     "name": "stdout",
     "output_type": "stream",
     "text": [
      "sgd1_2lay\n",
      "Confusion matrix(tn, fp, fn, tp): [389   0  11   0]\n",
      "Accuracy: 0.9725\n",
      "Precision: 0.0\n",
      "Recall: 0.0\n",
      "sgd2_8lay\n",
      "Confusion matrix(tn, fp, fn, tp): [389   0  11   0]\n",
      "Accuracy: 0.9725\n",
      "Precision: 0.0\n",
      "Recall: 0.0\n",
      "sgd3_32lay\n",
      "Confusion matrix(tn, fp, fn, tp): [389   0  11   0]\n",
      "Accuracy: 0.9725\n",
      "Precision: 0.0\n",
      "Recall: 0.0\n"
     ]
    },
    {
     "name": "stderr",
     "output_type": "stream",
     "text": [
      "C:\\Users\\Pjoter\\anaconda3\\lib\\site-packages\\sklearn\\neural_network\\_multilayer_perceptron.py:614: ConvergenceWarning: Stochastic Optimizer: Maximum iterations (500) reached and the optimization hasn't converged yet.\n",
      "  warnings.warn(\n"
     ]
    },
    {
     "name": "stdout",
     "output_type": "stream",
     "text": [
      "sgd1_adaptive_momentum\n",
      "Confusion matrix(tn, fp, fn, tp): [389   0  11   0]\n",
      "Accuracy: 0.9725\n",
      "Precision: 0.0\n",
      "Recall: 0.0\n",
      "sgd2_momentum\n",
      "Confusion matrix(tn, fp, fn, tp): [389   0  11   0]\n",
      "Accuracy: 0.9725\n",
      "Precision: 0.0\n",
      "Recall: 0.0\n",
      "sgd3_momentum\n",
      "Confusion matrix(tn, fp, fn, tp): [389   0  11   0]\n",
      "Accuracy: 0.9725\n",
      "Precision: 0.0\n",
      "Recall: 0.0\n",
      "lbfgs_no_momentum\n",
      "Confusion matrix(tn, fp, fn, tp): [388   1   2   9]\n",
      "Accuracy: 0.9925\n",
      "Precision: 0.9\n",
      "Recall: 0.8181818181818182\n",
      "lbfgs_momentum\n",
      "Confusion matrix(tn, fp, fn, tp): [388   1   0  11]\n",
      "Accuracy: 0.9975\n",
      "Precision: 0.9166666666666666\n",
      "Recall: 1.0\n"
     ]
    }
   ],
   "source": [
    "createPreviousLoadData(2)\n",
    "for i in range(1,5):\n",
    "    X_train, X_val, y_train, y_val = train_test_split(createPreviousLoadData(i), y, test_size=0.2,  shuffle=False)\n",
    "    TrainModel(X_train, X_val, y_train, y_val)"
   ]
  },
  {
   "cell_type": "code",
   "execution_count": null,
   "id": "4dedb98c",
   "metadata": {},
   "outputs": [],
   "source": []
  }
 ],
 "metadata": {
  "kernelspec": {
   "display_name": "Python 3",
   "language": "python",
   "name": "python3"
  },
  "language_info": {
   "codemirror_mode": {
    "name": "ipython",
    "version": 3
   },
   "file_extension": ".py",
   "mimetype": "text/x-python",
   "name": "python",
   "nbconvert_exporter": "python",
   "pygments_lexer": "ipython3",
   "version": "3.8.8"
  }
 },
 "nbformat": 4,
 "nbformat_minor": 5
}
